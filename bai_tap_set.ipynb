{
  "nbformat": 4,
  "nbformat_minor": 0,
  "metadata": {
    "colab": {
      "provenance": [],
      "collapsed_sections": [],
      "authorship_tag": "ABX9TyNeimJhq44u2O+RCmKTo9fh",
      "include_colab_link": true
    },
    "kernelspec": {
      "name": "python3",
      "display_name": "Python 3"
    },
    "language_info": {
      "name": "python"
    }
  },
  "cells": [
    {
      "cell_type": "markdown",
      "metadata": {
        "id": "view-in-github",
        "colab_type": "text"
      },
      "source": [
        "<a href=\"https://colab.research.google.com/github/minhquy017/python_co_ban1/blob/main/bai_tap_set.ipynb\" target=\"_parent\"><img src=\"https://colab.research.google.com/assets/colab-badge.svg\" alt=\"Open In Colab\"/></a>"
      ]
    },
    {
      "cell_type": "code",
      "execution_count": 6,
      "metadata": {
        "id": "7PoNDGFloiux"
      },
      "outputs": [],
      "source": [
        "#1\n",
        "A = {\"NNLT Python\", \"Đại số tuyến tính\", \"Tiếng Anh chuyên ngành\", \"Thể dục\"}\n",
        "B = {\"NNLT Python\", \"Đại số tuyến tính\", \"Tối ưu hóa\", \"Học Máy\", \"Học sâu\", \"Computer vision\", \"Natural Language Processing\", \"Recommender Systems\"}\n"
      ]
    },
    {
      "cell_type": "code",
      "source": [
        "#2\n",
        "print(A)\n",
        "print(B)"
      ],
      "metadata": {
        "colab": {
          "base_uri": "https://localhost:8080/"
        },
        "id": "s90t_JqupZra",
        "outputId": "8d9d1b86-8ac4-4499-870c-d50ca9784416"
      },
      "execution_count": 7,
      "outputs": [
        {
          "output_type": "stream",
          "name": "stdout",
          "text": [
            "{'NNLT Python', 'Thể dục', 'Tiếng Anh chuyên ngành', 'Đại số tuyến tính'}\n",
            "{'NNLT Python', 'Tối ưu hóa', 'Recommender Systems', 'Học sâu', 'Học Máy', 'Natural Language Processing', 'Computer vision', 'Đại số tuyến tính'}\n"
          ]
        }
      ]
    },
    {
      "cell_type": "code",
      "source": [
        "#3\n",
        "x = A.union(B)\n",
        "print(x)"
      ],
      "metadata": {
        "colab": {
          "base_uri": "https://localhost:8080/"
        },
        "id": "ITf3RK0zqZ5S",
        "outputId": "111bd18c-4ee0-44f5-8f13-666b9d79097f"
      },
      "execution_count": 22,
      "outputs": [
        {
          "output_type": "stream",
          "name": "stdout",
          "text": [
            "{'NNLT Python', 'Thể dục', 'Tối ưu hóa', 'Recommender Systems', 'Học sâu', 'Học Máy', 'Natural Language Processing', 'Tiếng Anh chuyên ngành', 'Computer vision', 'Đại số tuyến tính'}\n"
          ]
        }
      ]
    },
    {
      "cell_type": "code",
      "source": [
        "#4\n",
        "y=A.intersection(B)\n",
        "print(y)"
      ],
      "metadata": {
        "colab": {
          "base_uri": "https://localhost:8080/"
        },
        "id": "2ES3IcECrEGJ",
        "outputId": "b3fe5eee-9d48-4dc7-d066-1279b08b1c3e"
      },
      "execution_count": 14,
      "outputs": [
        {
          "output_type": "stream",
          "name": "stdout",
          "text": [
            "{'NNLT Python', 'Đại số tuyến tính'}\n"
          ]
        }
      ]
    },
    {
      "cell_type": "code",
      "source": [
        "#5\n",
        "z= A.difference(B)\n",
        "print(z)\n",
        "g=B.difference(A)\n",
        "print(g)"
      ],
      "metadata": {
        "colab": {
          "base_uri": "https://localhost:8080/"
        },
        "id": "0K2kENHCsKEx",
        "outputId": "b08bb761-27f1-49ba-c9a6-0de6c045c110"
      },
      "execution_count": 18,
      "outputs": [
        {
          "output_type": "stream",
          "name": "stdout",
          "text": [
            "{'Thể dục', 'Tiếng Anh chuyên ngành'}\n",
            "{'Tối ưu hóa', 'Recommender Systems', 'Học sâu', 'Học Máy', 'Natural Language Processing', 'Computer vision'}\n"
          ]
        }
      ]
    },
    {
      "cell_type": "code",
      "source": [
        "#6\n",
        "X = [1, 1, 1, 2, 2, 3, 3 ,3, 4 ,5 ,6, 7]\n",
        "print(X)"
      ],
      "metadata": {
        "colab": {
          "base_uri": "https://localhost:8080/"
        },
        "id": "pSYUxQucshEp",
        "outputId": "b1999741-178d-435a-9ff8-326f0fa56f29"
      },
      "execution_count": 20,
      "outputs": [
        {
          "output_type": "stream",
          "name": "stdout",
          "text": [
            "[1, 1, 1, 2, 2, 3, 3, 3, 4, 5, 6, 7]\n"
          ]
        }
      ]
    },
    {
      "cell_type": "code",
      "source": [
        "quy=set(X)\n",
        "print(quy)"
      ],
      "metadata": {
        "colab": {
          "base_uri": "https://localhost:8080/"
        },
        "id": "uY5Y98Ebs7-o",
        "outputId": "df4319ec-a712-4577-c976-aa018a5e2576"
      },
      "execution_count": 21,
      "outputs": [
        {
          "output_type": "stream",
          "name": "stdout",
          "text": [
            "{1, 2, 3, 4, 5, 6, 7}\n"
          ]
        }
      ]
    }
  ]
}