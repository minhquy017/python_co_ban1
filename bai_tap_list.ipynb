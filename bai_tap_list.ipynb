{
  "nbformat": 4,
  "nbformat_minor": 0,
  "metadata": {
    "colab": {
      "provenance": [],
      "collapsed_sections": [],
      "authorship_tag": "ABX9TyM8PhlVCgTbwg1dbWRysfpU",
      "include_colab_link": true
    },
    "kernelspec": {
      "name": "python3",
      "display_name": "Python 3"
    },
    "language_info": {
      "name": "python"
    }
  },
  "cells": [
    {
      "cell_type": "markdown",
      "metadata": {
        "id": "view-in-github",
        "colab_type": "text"
      },
      "source": [
        "<a href=\"https://colab.research.google.com/github/minhquy017/python_co_ban1/blob/main/bai_tap_list.ipynb\" target=\"_parent\"><img src=\"https://colab.research.google.com/assets/colab-badge.svg\" alt=\"Open In Colab\"/></a>"
      ]
    },
    {
      "cell_type": "code",
      "execution_count": 43,
      "metadata": {
        "id": "kOoBYEawWbuS"
      },
      "outputs": [],
      "source": [
        "#1\n",
        "x = []\n"
      ]
    },
    {
      "cell_type": "code",
      "source": [
        "\n",
        "#2\n",
        "x.append(18)"
      ],
      "metadata": {
        "id": "AQrKK0XxlRAV"
      },
      "execution_count": 44,
      "outputs": []
    },
    {
      "cell_type": "code",
      "source": [
        "#3\n",
        "x.append(\"Huế\")"
      ],
      "metadata": {
        "id": "uHfCSsfRlSCs"
      },
      "execution_count": 45,
      "outputs": []
    },
    {
      "cell_type": "code",
      "source": [
        "#4\n",
        "y = [12, 45, -1, -0.56, \"abc\"]"
      ],
      "metadata": {
        "id": "BooQmqqVlSt0"
      },
      "execution_count": 46,
      "outputs": []
    },
    {
      "cell_type": "code",
      "source": [
        "#5\n",
        "x.extend(y)"
      ],
      "metadata": {
        "id": "zeLD43RClTUj"
      },
      "execution_count": 47,
      "outputs": []
    },
    {
      "cell_type": "code",
      "source": [
        "#6\n",
        "print(x)"
      ],
      "metadata": {
        "colab": {
          "base_uri": "https://localhost:8080/"
        },
        "id": "9oB-gVV5lT40",
        "outputId": "0b4fcf4b-e7db-439d-c3cd-1dd91d69d838"
      },
      "execution_count": 48,
      "outputs": [
        {
          "output_type": "stream",
          "name": "stdout",
          "text": [
            "[18, 'Huế', 12, 45, -1, -0.56, 'abc']\n"
          ]
        }
      ]
    },
    {
      "cell_type": "code",
      "source": [
        "#7\n",
        "print(\"giá trị của phần tử cuối cùng và phần tử đầu tiên của x là : \",x[-1],x[0])"
      ],
      "metadata": {
        "colab": {
          "base_uri": "https://localhost:8080/"
        },
        "id": "TQ6GtfsclUi8",
        "outputId": "4248dd79-b404-41dc-e615-54fb9c5e16f0"
      },
      "execution_count": 49,
      "outputs": [
        {
          "output_type": "stream",
          "name": "stdout",
          "text": [
            "giá trị của phần tử cuối cùng và phần tử đầu tiên của x là :  abc 18\n"
          ]
        }
      ]
    },
    {
      "cell_type": "code",
      "source": [
        "#8\n",
        "print(\"giá trị của phần tử đầu tiên đến phần tử thứ 5 của x là \",x[0:5])"
      ],
      "metadata": {
        "colab": {
          "base_uri": "https://localhost:8080/"
        },
        "id": "M8oP7aELlZss",
        "outputId": "2c588ed1-2de8-4e79-be16-c2d841b24460"
      },
      "execution_count": 50,
      "outputs": [
        {
          "output_type": "stream",
          "name": "stdout",
          "text": [
            "giá trị của phần tử đầu tiên đến phần tử thứ 5 của x là  [18, 'Huế', 12, 45, -1]\n"
          ]
        }
      ]
    },
    {
      "cell_type": "code",
      "source": [
        "#9\n",
        "print(\"giá trị của phần tử thứ 3 đến cuối cùng của x \",x[2:])"
      ],
      "metadata": {
        "colab": {
          "base_uri": "https://localhost:8080/"
        },
        "id": "OYVwTcPil3o7",
        "outputId": "bb573c07-3f9e-4825-e3f0-0668f3eb2bc9"
      },
      "execution_count": 51,
      "outputs": [
        {
          "output_type": "stream",
          "name": "stdout",
          "text": [
            "giá trị của phần tử thứ 3 đến cuối cùng của x  [12, 45, -1, -0.56, 'abc']\n"
          ]
        }
      ]
    }
  ]
}